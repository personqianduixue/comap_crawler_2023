{
 "cells": [
  {
   "cell_type": "code",
   "execution_count": 10,
   "metadata": {},
   "outputs": [
    {
     "data": {
      "text/html": [
       "<div>\n",
       "<style scoped>\n",
       "    .dataframe tbody tr th:only-of-type {\n",
       "        vertical-align: middle;\n",
       "    }\n",
       "\n",
       "    .dataframe tbody tr th {\n",
       "        vertical-align: top;\n",
       "    }\n",
       "\n",
       "    .dataframe thead th {\n",
       "        text-align: right;\n",
       "    }\n",
       "</style>\n",
       "<table border=\"1\" class=\"dataframe\">\n",
       "  <thead>\n",
       "    <tr style=\"text-align: right;\">\n",
       "      <th></th>\n",
       "      <th>control_number</th>\n",
       "      <th>student1</th>\n",
       "      <th>student2</th>\n",
       "      <th>student3</th>\n",
       "      <th>university</th>\n",
       "      <th>prize</th>\n",
       "      <th>Unnamed: 6</th>\n",
       "    </tr>\n",
       "  </thead>\n",
       "  <tbody>\n",
       "    <tr>\n",
       "      <th>0</th>\n",
       "      <td>2200002</td>\n",
       "      <td>Jiaying Yin</td>\n",
       "      <td>Yingxin Liu</td>\n",
       "      <td>Zhehan Qi</td>\n",
       "      <td>BNU-HKBU United International College</td>\n",
       "      <td>Successful Participant</td>\n",
       "      <td>NaN</td>\n",
       "    </tr>\n",
       "    <tr>\n",
       "      <th>1</th>\n",
       "      <td>2200003</td>\n",
       "      <td>Ding Xueqi</td>\n",
       "      <td>Wang Yian</td>\n",
       "      <td>Liu Yuxuan</td>\n",
       "      <td>BNU-HKBU United International College</td>\n",
       "      <td>Successful Participant</td>\n",
       "      <td>NaN</td>\n",
       "    </tr>\n",
       "    <tr>\n",
       "      <th>2</th>\n",
       "      <td>2200004</td>\n",
       "      <td>Li Sirui</td>\n",
       "      <td>Peng Bo</td>\n",
       "      <td>Xiao Dingwen</td>\n",
       "      <td>BNU-HKBU United International College</td>\n",
       "      <td>Honorable Mention</td>\n",
       "      <td>NaN</td>\n",
       "    </tr>\n",
       "    <tr>\n",
       "      <th>3</th>\n",
       "      <td>2200005</td>\n",
       "      <td>He Yandi</td>\n",
       "      <td>Fu Weichen</td>\n",
       "      <td>Sun Qihao</td>\n",
       "      <td>BNU-HKBU United International College</td>\n",
       "      <td>Successful Participant</td>\n",
       "      <td>NaN</td>\n",
       "    </tr>\n",
       "    <tr>\n",
       "      <th>4</th>\n",
       "      <td>2200006</td>\n",
       "      <td>Hansheng Li</td>\n",
       "      <td>Hongx1 Zhang</td>\n",
       "      <td>Haoxuan Feng</td>\n",
       "      <td>BNU-HKBU United International College</td>\n",
       "      <td>Successful Participant</td>\n",
       "      <td>NaN</td>\n",
       "    </tr>\n",
       "  </tbody>\n",
       "</table>\n",
       "</div>"
      ],
      "text/plain": [
       "   control_number     student1      student2      student3  \\\n",
       "0         2200002  Jiaying Yin   Yingxin Liu     Zhehan Qi   \n",
       "1         2200003   Ding Xueqi     Wang Yian    Liu Yuxuan   \n",
       "2         2200004     Li Sirui       Peng Bo  Xiao Dingwen   \n",
       "3         2200005     He Yandi    Fu Weichen     Sun Qihao   \n",
       "4         2200006  Hansheng Li  Hongx1 Zhang  Haoxuan Feng   \n",
       "\n",
       "                              university  \\\n",
       "0  BNU-HKBU United International College   \n",
       "1  BNU-HKBU United International College   \n",
       "2  BNU-HKBU United International College   \n",
       "3  BNU-HKBU United International College   \n",
       "4  BNU-HKBU United International College   \n",
       "\n",
       "                                   prize  Unnamed: 6  \n",
       "0      Successful Participant                    NaN  \n",
       "1    Successful Participant                      NaN  \n",
       "2  Honorable Mention                             NaN  \n",
       "3  Successful Participant                        NaN  \n",
       "4          Successful Participant                NaN  "
      ]
     },
     "execution_count": 10,
     "metadata": {},
     "output_type": "execute_result"
    }
   ],
   "source": [
    "import shutil\n",
    "import pandas as pd\n",
    "\n",
    "shutil.copyfile('./all/all1.txt', './all/all1.csv')\n",
    "data = pd.read_csv('./all/all1.csv')\n",
    "data.head()"
   ]
  },
  {
   "cell_type": "code",
   "execution_count": 14,
   "metadata": {},
   "outputs": [
    {
     "data": {
      "text/plain": [
       "BNU-HKBU United International College                               30\n",
       "Shenzhen University                                                  2\n",
       "Wuhan University                                                     2\n",
       "Jiamusi University                                                   2\n",
       "Tianjin University                                                   2\n",
       "University of Science and Technology of China                        1\n",
       "Successful Participant                                               1\n",
       "China University of Petroleum (East China)                           1\n",
       "Northeast Agricultural University                                    1\n",
       "Honorable Mention                                                    1\n",
       "Successful Participant                                               1\n",
       "Lanzhou University                                                   1\n",
       "Disqualified - P                                                     1\n",
       "Guizhou University                                                   1\n",
       "Maynooth Engineering                                                 1\n",
       "Honorable Mention                                                    1\n",
       "Hainan university                                                    1\n",
       "China Jiliang University                                             1\n",
       "Shanghai University                                                  1\n",
       "ChongQing University of arts and sciences                            1\n",
       "China University of Geosciences (wu han)                             1\n",
       "Honorable Mention                                                    1\n",
       "Name: university, dtype: int64"
      ]
     },
     "execution_count": 14,
     "metadata": {},
     "output_type": "execute_result"
    }
   ],
   "source": [
    "data['university'].value_counts()"
   ]
  },
  {
   "cell_type": "code",
   "execution_count": 13,
   "metadata": {},
   "outputs": [
    {
     "data": {
      "text/plain": [
       "Successful Participant                                      4\n",
       "Successful Participant                                      4\n",
       "Successful Participant                                      3\n",
       "Successful Participant                                      3\n",
       "Successful Participant                                      3\n",
       "Honorable Mention                                           2\n",
       "Successful Participant                                      2\n",
       "Successful Participant                                      2\n",
       "Honorable Mention                                           2\n",
       "Successful Participant                                      1\n",
       "Meritorious Winner                                          1\n",
       "Successful Participant                                      1\n",
       "Honorable Mention                                           1\n",
       "Honorable Mention                                           1\n",
       "Successful Participant                                      1\n",
       "Disqualified - P                                            1\n",
       "Successful Participant                                      1\n",
       "Successful Participant                                      1\n",
       "Unsuccessful - I                                            1\n",
       "Successful Participant                                      1\n",
       "Honorable Mention                                           1\n",
       "Disqualified - P                                            1\n",
       "Honorable Mention                                           1\n",
       "Honorable Mention                                           1\n",
       "Meritorious Winner                                          1\n",
       "Successful Participant                                      1\n",
       "Meritorious Winner                                          1\n",
       "Honorable Mention                                           1\n",
       "Disqualified - P                                            1\n",
       "Successful Participant                                      1\n",
       "Successful Participant                                      1\n",
       "Successful Participant                                      1\n",
       "Honorable Mention                                           1\n",
       "Name: prize, dtype: int64"
      ]
     },
     "execution_count": 13,
     "metadata": {},
     "output_type": "execute_result"
    }
   ],
   "source": [
    "data['prize'].value_counts()"
   ]
  },
  {
   "cell_type": "code",
   "execution_count": null,
   "metadata": {},
   "outputs": [],
   "source": []
  }
 ],
 "metadata": {
  "kernelspec": {
   "display_name": "Python 3",
   "language": "python",
   "name": "python3"
  },
  "language_info": {
   "codemirror_mode": {
    "name": "ipython",
    "version": 3
   },
   "file_extension": ".py",
   "mimetype": "text/x-python",
   "name": "python",
   "nbconvert_exporter": "python",
   "pygments_lexer": "ipython3",
   "version": "3.7.6"
  }
 },
 "nbformat": 4,
 "nbformat_minor": 4
}
